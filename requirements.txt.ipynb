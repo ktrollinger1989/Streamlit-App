{
  "nbformat": 4,
  "nbformat_minor": 0,
  "metadata": {
    "colab": {
      "provenance": [],
      "toc_visible": true,
      "authorship_tag": "ABX9TyOdSETGbbNEEJBx7Wa8pz1z",
      "include_colab_link": true
    },
    "kernelspec": {
      "name": "python3",
      "display_name": "Python 3"
    },
    "language_info": {
      "name": "python"
    }
  },
  "cells": [
    {
      "cell_type": "markdown",
      "metadata": {
        "id": "view-in-github",
        "colab_type": "text"
      },
      "source": [
        "<a href=\"https://colab.research.google.com/github/ktrollinger1989/Streamlit-App/blob/main/requirements.txt.ipynb\" target=\"_parent\"><img src=\"https://colab.research.google.com/assets/colab-badge.svg\" alt=\"Open In Colab\"/></a>"
      ]
    },
    {
      "cell_type": "code",
      "source": [
        "streamlit\n",
        "pandas\n",
        "openpyxl\n"
      ],
      "metadata": {
        "id": "dPLQ-JxcZKVJ"
      },
      "execution_count": null,
      "outputs": []
    }
  ]
}